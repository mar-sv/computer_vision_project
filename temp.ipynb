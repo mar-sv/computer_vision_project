{
 "cells": [
  {
   "cell_type": "code",
   "execution_count": null,
   "metadata": {
    "vscode": {
     "languageId": "plaintext"
    }
   },
   "outputs": [],
   "source": [
    "import functions as cv_funcs\n",
    "\n",
    "folder = \"data\"\n",
    "images = cv_funcs.load_images_from_folder(folder)\n",
    "\n",
    "#Subset of images (500) NOTE: Seed is to get the same images for both of us (use default 42)\n",
    "num_images = 500\n",
    "subset_images,_ = cv_funcs.create_image_subset(images,num_images)\n",
    "\n",
    "keypoints_list, descriptors_list = cv_funcs.extract_features(subset_images)\n",
    "\n",
    "\n",
    "matches_list= cv_funcs.match_features(descriptors_list)\n",
    "\n",
    "revisited_pairs = identify_revisited_locations(matches_list, threshold=30)\n",
    "\n",
    "predicted, ground_truth = cv_funcs.simulate_ground_truth(revisited_pairs, subset_images)\n",
    "\n",
    "precision,recall = cv_funcs.calculate_precision_recall(predicted, ground_truth, subset_images)\n",
    "\n",
    "print(f\"Precision: {precision}\")\n",
    "print(f\"Recall: {recall}\")\n",
    "\n",
    "\n",
    "\n"
   ]
  }
 ],
 "metadata": {
  "language_info": {
   "name": "python"
  }
 },
 "nbformat": 4,
 "nbformat_minor": 2
}
