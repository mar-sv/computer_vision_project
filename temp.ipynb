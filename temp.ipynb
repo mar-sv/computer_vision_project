{
 "cells": [
  {
   "cell_type": "code",
   "execution_count": 1,
   "metadata": {},
   "outputs": [
    {
     "name": "stdout",
     "output_type": "stream",
     "text": [
      "Precision: 0.4480354879594423\n",
      "Recall: 0.5804597701149425\n",
      "F1 Score: 0.5057224606580829\n"
     ]
    }
   ],
   "source": [
    "import functions as cv_funcs\n",
    "\n",
    "dataset = '00'\n",
    "folder = f\"dataset\\sequences\\{dataset}\\image_0\"\n",
    "images = cv_funcs.load_images_from_folder(folder)\n",
    "\n",
    "#Subset of images (500) NOTE: Seed is to get the same images for both of us (use default 42)\n",
    "num_images = 500\n",
    "subset_images,subset_indices = cv_funcs.create_image_subset(images,num_images)\n",
    "\n",
    "ground_truth_file = f\"dataset\\poses\\{dataset}.txt\"\n",
    "poses = cv_funcs.load_ground_truth_poses(ground_truth_file)\n",
    "\n",
    "# 4. Extract positions\n",
    "positions = cv_funcs.extract_positions(poses)\n",
    "\n",
    "distances = cv_funcs.compute_pairwise_distances(positions)\n",
    "\n",
    "revisit_distance_threshold = 10.0  \n",
    "ground_truth_pairs = cv_funcs.generate_ground_truth_pairs(distances, revisit_distance_threshold)\n",
    "\n",
    "subset_original_indices = set(subset_indices)\n",
    "filtered_ground_truth_pairs = set()\n",
    "for i, j in ground_truth_pairs:\n",
    "    if i in subset_original_indices and j in subset_original_indices:\n",
    "        filtered_ground_truth_pairs.add((i, j))\n",
    "\n",
    "#keypoints_list, descriptors_list = cv_funcs.extract_features_with_orb(subset_images)\n",
    "keypoints_list, descriptors_list = cv_funcs.extract_features_with_sift(subset_images)\n",
    "#keypoints_list, descriptors_list = cv_funcs.extract_features_with_brief(subset_images)\n",
    "\n",
    "matches_list= cv_funcs.match_features_sift(descriptors_list)\n",
    "\n",
    "revisited_pairs = cv_funcs.identify_revisited_locations(matches_list, threshold=15)\n",
    "\n",
    "index_mapping = {idx: original_idx for idx, original_idx in enumerate(subset_indices)}\n",
    "predicted_pairs = set((index_mapping[i], index_mapping[j]) for i, j, _ in revisited_pairs)\n",
    "\n",
    "# 12. Calculate precision and recall\n",
    "num_frames = len(subset_images)\n",
    "precision, recall,accuracy = cv_funcs.calculate_metrics(predicted_pairs, filtered_ground_truth_pairs, num_frames)\n",
    "print(f\"Precision: {precision}\")\n",
    "print(f\"Recall: {recall}\")\n",
    "try:\n",
    "    print(f\"F1 Score: {(2*precision*recall)/(precision+recall)}\")\n",
    "except ZeroDivisionError:\n",
    "    print('ZeroDivisionError')"
   ]
  },
  {
   "cell_type": "code",
   "execution_count": 6,
   "metadata": {},
   "outputs": [
    {
     "ename": "KeyboardInterrupt",
     "evalue": "",
     "output_type": "error",
     "traceback": [
      "\u001b[1;31m---------------------------------------------------------------------------\u001b[0m",
      "\u001b[1;31mKeyboardInterrupt\u001b[0m                         Traceback (most recent call last)",
      "Cell \u001b[1;32mIn[6], line 30\u001b[0m\n\u001b[0;32m     27\u001b[0m \u001b[38;5;66;03m#keypoints_list, descriptors_list = cv_funcs.extract_features_with_orb(subset_images)\u001b[39;00m\n\u001b[0;32m     28\u001b[0m keypoints_list, descriptors_list \u001b[38;5;241m=\u001b[39m cv_funcs\u001b[38;5;241m.\u001b[39mextract_features_with_brief(subset_images)\n\u001b[1;32m---> 30\u001b[0m matches_list\u001b[38;5;241m=\u001b[39m \u001b[43mcv_funcs\u001b[49m\u001b[38;5;241;43m.\u001b[39;49m\u001b[43mmatch_features\u001b[49m\u001b[43m(\u001b[49m\u001b[43mdescriptors_list\u001b[49m\u001b[43m)\u001b[49m\n\u001b[0;32m     32\u001b[0m revisited_pairs \u001b[38;5;241m=\u001b[39m cv_funcs\u001b[38;5;241m.\u001b[39midentify_revisited_locations(matches_list, threshold\u001b[38;5;241m=\u001b[39m\u001b[38;5;241m30\u001b[39m)\n\u001b[0;32m     34\u001b[0m index_mapping \u001b[38;5;241m=\u001b[39m {idx: original_idx \u001b[38;5;28;01mfor\u001b[39;00m idx, original_idx \u001b[38;5;129;01min\u001b[39;00m \u001b[38;5;28menumerate\u001b[39m(subset_indices)}\n",
      "File \u001b[1;32mc:\\Applied AI\\computer_vision_project\\functions.py:70\u001b[0m, in \u001b[0;36mmatch_features\u001b[1;34m(descriptors_list)\u001b[0m\n\u001b[0;32m     68\u001b[0m \u001b[38;5;28;01mfor\u001b[39;00m j \u001b[38;5;129;01min\u001b[39;00m \u001b[38;5;28mrange\u001b[39m(num_images):\n\u001b[0;32m     69\u001b[0m     \u001b[38;5;28;01mif\u001b[39;00m i \u001b[38;5;241m!=\u001b[39m j:\n\u001b[1;32m---> 70\u001b[0m         matches_ij \u001b[38;5;241m=\u001b[39m \u001b[43mbf\u001b[49m\u001b[38;5;241;43m.\u001b[39;49m\u001b[43mmatch\u001b[49m\u001b[43m(\u001b[49m\u001b[43mdescriptors_list\u001b[49m\u001b[43m[\u001b[49m\u001b[43mi\u001b[49m\u001b[43m]\u001b[49m\u001b[43m,\u001b[49m\u001b[43m \u001b[49m\u001b[43mdescriptors_list\u001b[49m\u001b[43m[\u001b[49m\u001b[43mj\u001b[49m\u001b[43m]\u001b[49m\u001b[43m)\u001b[49m\n\u001b[0;32m     71\u001b[0m         matches_ij \u001b[38;5;241m=\u001b[39m \u001b[38;5;28msorted\u001b[39m(matches_ij, key\u001b[38;5;241m=\u001b[39m\u001b[38;5;28;01mlambda\u001b[39;00m x: x\u001b[38;5;241m.\u001b[39mdistance)\n\u001b[0;32m     72\u001b[0m         matches\u001b[38;5;241m.\u001b[39mappend((j, matches_ij))\n",
      "\u001b[1;31mKeyboardInterrupt\u001b[0m: "
     ]
    }
   ],
   "source": [
    "import functions as cv_funcs\n",
    "dataset = '00'\n",
    "folder = f\"dataset\\sequences\\{dataset}\\image_0\"\n",
    "images = cv_funcs.load_images_from_folder(folder)\n",
    "\n",
    "#Subset of images (500) NOTE: Seed is to get the same images for both of us (use default 42)\n",
    "num_images = 500\n",
    "subset_images,subset_indices = cv_funcs.create_image_subset(images,num_images)\n",
    "\n",
    "ground_truth_file = f\"dataset\\poses\\{dataset}.txt\"\n",
    "poses = cv_funcs.load_ground_truth_poses(ground_truth_file)\n",
    "\n",
    "# 4. Extract positions\n",
    "positions = cv_funcs.extract_positions(poses)\n",
    "\n",
    "distances = cv_funcs.compute_pairwise_distances(positions)\n",
    "\n",
    "revisit_distance_threshold = 10.0  # Adjust as needed\n",
    "ground_truth_pairs = cv_funcs.generate_ground_truth_pairs(distances, revisit_distance_threshold)\n",
    "\n",
    "subset_original_indices = set(subset_indices)\n",
    "filtered_ground_truth_pairs = set()\n",
    "for i, j in ground_truth_pairs:\n",
    "    if i in subset_original_indices and j in subset_original_indices:\n",
    "        filtered_ground_truth_pairs.add((i, j))\n",
    "\n",
    "#keypoints_list, descriptors_list = cv_funcs.extract_features_with_orb(subset_images)\n",
    "keypoints_list, descriptors_list = cv_funcs.extract_features_with_brief(subset_images)\n",
    "\n",
    "matches_list= cv_funcs.match_features(descriptors_list)\n",
    "\n",
    "revisited_pairs = cv_funcs.identify_revisited_locations(matches_list, threshold=30)\n",
    "\n",
    "index_mapping = {idx: original_idx for idx, original_idx in enumerate(subset_indices)}\n",
    "predicted_pairs = set((index_mapping[i], index_mapping[j]) for i, j, _ in revisited_pairs)\n",
    "\n",
    "# 12. Calculate precision and recall\n",
    "num_frames = len(subset_images)\n",
    "precision, recall,accuracy = cv_funcs.calculate_metrics(predicted_pairs, filtered_ground_truth_pairs, num_frames)\n",
    "print(f\"Precision: {precision}\")\n",
    "print(f\"Recall: {recall}\")\n",
    "print(f\"Accuracy: {accuracy}\")"
   ]
  },
  {
   "cell_type": "code",
   "execution_count": 5,
   "metadata": {},
   "outputs": [
    {
     "data": {
      "text/plain": [
       "set()"
      ]
     },
     "execution_count": 5,
     "metadata": {},
     "output_type": "execute_result"
    }
   ],
   "source": []
  },
  {
   "cell_type": "code",
   "execution_count": null,
   "metadata": {},
   "outputs": [],
   "source": []
  }
 ],
 "metadata": {
  "kernelspec": {
   "display_name": "base",
   "language": "python",
   "name": "python3"
  },
  "language_info": {
   "codemirror_mode": {
    "name": "ipython",
    "version": 3
   },
   "file_extension": ".py",
   "mimetype": "text/x-python",
   "name": "python",
   "nbconvert_exporter": "python",
   "pygments_lexer": "ipython3",
   "version": "3.10.12"
  }
 },
 "nbformat": 4,
 "nbformat_minor": 2
}
